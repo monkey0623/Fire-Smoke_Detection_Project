{
  "cells": [
    {
      "cell_type": "markdown",
      "metadata": {
        "id": "6MCC6Iw6geE-"
      },
      "source": [
        "# 이미지 데이터 압축해제"
      ]
    },
    {
      "cell_type": "markdown",
      "metadata": {
        "id": "WS_lA6TDNEtp"
      },
      "source": [
        "### Train Set 데이터 관련"
      ]
    },
    {
      "cell_type": "markdown",
      "metadata": {
        "id": "J6_byN8CRpVQ"
      },
      "source": [
        "**Train셋 라벨**"
      ]
    },
    {
      "cell_type": "code",
      "execution_count": null,
      "metadata": {
        "id": "zaNSZzww34NL"
      },
      "outputs": [],
      "source": [
        "# !gdown https://drive.google.com/uc?id=1C-vYL2zq_I1Z70o_oZfhfQazZRrgc8to #label \n",
        "!unzip -q /content/drive/MyDrive/객체인식/train_label.zip "
      ]
    },
    {
      "cell_type": "markdown",
      "metadata": {
        "id": "w5l-aWneSTkR"
      },
      "source": [
        "**F = Fire(화재씬) / S = Similarity(유사씬) / N = Not related(무관씬)**"
      ]
    },
    {
      "cell_type": "code",
      "execution_count": null,
      "metadata": {
        "id": "lq34QQ7P9bD_"
      },
      "outputs": [],
      "source": [
        " import os\n",
        " json_file_01 = os.listdir('/content/train_label/train_label_F')\n",
        " json_file_02 = os.listdir('/content/train_label/train_label_S')\n",
        " json_file_03 = os.listdir('/content/train_label/train_label_N')"
      ]
    },
    {
      "cell_type": "markdown",
      "metadata": {
        "id": "EO9OHy9cVJ5Q"
      },
      "source": [
        "**↓↓↓이미지 파일이 커서 그냥 풀면 안풀리는데  밑의 코드를 적용해주면 다운로드받아진다.↓↓↓**"
      ]
    },
    {
      "cell_type": "code",
      "execution_count": null,
      "metadata": {
        "id": "ncJ9UJ3_QJlD"
      },
      "outputs": [],
      "source": [
        "# !zip -FF /content/drive/MyDrive/객체인식/train_image_F.zip --out /content/train_image_F_re.zip \n",
        "# !unzip -q /content/train_image_F_re.zip  "
      ]
    },
    {
      "cell_type": "code",
      "execution_count": null,
      "metadata": {
        "id": "vz3k8vdwpU3k"
      },
      "outputs": [],
      "source": [
        "!unzip -FF /content/drive/MyDrive/객체인식/train_image_F.zip "
      ]
    },
    {
      "cell_type": "code",
      "execution_count": null,
      "metadata": {
        "id": "DqLJFElJoQim"
      },
      "outputs": [],
      "source": [
        "!unzip -FF /content/drive/MyDrive/객체인식/train_image_S.zip "
      ]
    },
    {
      "cell_type": "code",
      "execution_count": null,
      "metadata": {
        "id": "oKH6DuPo6xue"
      },
      "outputs": [],
      "source": [
        "!unzip -FF /content/drive/MyDrive/객체인식/train_image_N.zip"
      ]
    },
    {
      "cell_type": "markdown",
      "metadata": {
        "id": "KVoQGVrMWUXG"
      },
      "source": [
        "gdown 보다는 본인 구글 드라이브 마운트해서 다운받도록 하자(자주 다운받으면 엑서스거부당함)"
      ]
    },
    {
      "cell_type": "code",
      "execution_count": null,
      "metadata": {
        "id": "zSYc6V1BcHUc"
      },
      "outputs": [],
      "source": [
        "# 밑에 파일은 예전 파일로 다운받아쓰면 위에 폴드 이름과 몇가지를 수정해야된다.\n",
        "# !gdown https://drive.google.com/uc?id=1EY3Tac9Wux_XmiP5JsdOkeaY0JkkY2N1 #화재씬\n",
        "# !gdown https://drive.google.com/uc?id=1XhBtrSuu-3PUvrFTZ7j80TmNOBVYDwrF #유사씬\n",
        "# !gdown https://drive.google.com/uc?id=1mWNt8ZhKDONjX9TAQ9IME1w9-7xLVfv3 #무관씬"
      ]
    },
    {
      "cell_type": "markdown",
      "metadata": {
        "id": "ni7N14cANT5x"
      },
      "source": [
        "### Validation Set 데이터 관련"
      ]
    },
    {
      "cell_type": "markdown",
      "metadata": {
        "id": "MKAuJVFBYui4"
      },
      "source": [
        "**Valid셋 라벨**"
      ]
    },
    {
      "cell_type": "code",
      "execution_count": null,
      "metadata": {
        "id": "FaXNmBEUNDko"
      },
      "outputs": [],
      "source": [
        "#https://drive.google.com/file/d/1QNn4uEHsenOe166goUn09xguMalPwxwf/view?usp=sharing #valid 라벨\n",
        "#!gdown https://drive.google.com/uc?id=1QNn4uEHsenOe166goUn09xguMalPwxwf\n",
        "!unzip -q /content/drive/MyDrive/객체인식/valid_label.zip "
      ]
    },
    {
      "cell_type": "code",
      "execution_count": null,
      "metadata": {
        "id": "l0NI7UAhdrv5"
      },
      "outputs": [],
      "source": [
        "import os\n",
        "json_file_04 = os.listdir('/content/valid_label/valid_label_F')\n",
        "json_file_05 = os.listdir('/content/valid_label/valid_label_S')\n",
        "json_file_06 = os.listdir('/content/valid_label/valid_label_N')"
      ]
    },
    {
      "cell_type": "code",
      "execution_count": null,
      "metadata": {
        "id": "4oeaHQEAa7gf"
      },
      "outputs": [],
      "source": [
        "#https://drive.google.com/file/d/1bp9YVgCbUjapDpWj_p35l233FFzG1-9y/view?usp=sharing #valid 이미지\n",
        "# !gdown https://drive.google.com/uc?id=1bp9YVgCbUjapDpWj_p35l233FFzG1-9y"
      ]
    },
    {
      "cell_type": "code",
      "execution_count": null,
      "metadata": {
        "colab": {
          "base_uri": "https://localhost:8080/"
        },
        "id": "KWbkV64Ma6-7",
        "outputId": "d43fe3f8-cdd5-46b5-d904-096da317aaba"
      },
      "outputs": [],
      "source": [
        "!unzip -FF /content/drive/MyDrive/객체인식/valid_image_F.zip "
      ]
    },
    {
      "cell_type": "code",
      "execution_count": null,
      "metadata": {
        "colab": {
          "base_uri": "https://localhost:8080/"
        },
        "id": "KQW00sOYERhQ",
        "outputId": "a5cdcb48-50fb-4810-d29e-99186e88a848"
      },
      "outputs": [],
      "source": [
        "!unzip -FF /content/drive/MyDrive/객체인식/valid_image_S.zip "
      ]
    },
    {
      "cell_type": "code",
      "execution_count": null,
      "metadata": {
        "colab": {
          "base_uri": "https://localhost:8080/"
        },
        "id": "e9NeYaTvER5A",
        "outputId": "cf74cc54-0ad0-41d5-b43e-463b1a3ae84d"
      },
      "outputs": [],
      "source": [
        "!unzip -FF /content/drive/MyDrive/객체인식/valid_image_N.zip "
      ]
    },
    {
      "cell_type": "markdown",
      "metadata": {
        "id": "zPdlpx2uNbHo"
      },
      "source": [
        "### Test Set 데이터 관련"
      ]
    },
    {
      "cell_type": "code",
      "execution_count": null,
      "metadata": {
        "id": "bQiZr4jHNn8g"
      },
      "outputs": [],
      "source": [
        "#https://drive.google.com/file/d/1NxDYpuUNY5I9T4G4iiRwFpWjCFO_CtSV/view?usp=sharing #test 라벨\n",
        "# !gdown https://drive.google.com/uc?id=1NxDYpuUNY5I9T4G4iiRwFpWjCFO_CtSV"
      ]
    },
    {
      "cell_type": "code",
      "execution_count": null,
      "metadata": {
        "id": "aJ3Y0CaubSR7"
      },
      "outputs": [],
      "source": [
        "!unzip -q /content/drive/MyDrive/객체인식/test_label.zip "
      ]
    },
    {
      "cell_type": "code",
      "execution_count": null,
      "metadata": {
        "id": "BI4ETbP_bcxn"
      },
      "outputs": [],
      "source": [
        "import os\n",
        "json_file_07 = os.listdir('/content/test_label/test_label_F')\n",
        "json_file_08 = os.listdir('/content/test_label/test_label_S')\n",
        "json_file_09 = os.listdir('/content/test_label/test_label_N')"
      ]
    },
    {
      "cell_type": "code",
      "execution_count": null,
      "metadata": {
        "id": "IYhNrv__bSHp"
      },
      "outputs": [],
      "source": [
        "#https://drive.google.com/file/d/1G7Rx21g3RBIAIGzXfD7sIHc6cMVCzKh6/view?usp=sharing #test 이미지\n",
        "# !gdown https://drive.google.com/uc?id=1G7Rx21g3RBIAIGzXfD7sIHc6cMVCzKh6"
      ]
    },
    {
      "cell_type": "code",
      "execution_count": null,
      "metadata": {
        "colab": {
          "base_uri": "https://localhost:8080/"
        },
        "id": "6J-sITB8bR18",
        "outputId": "16765356-235f-4b25-9b4b-1b863174db50"
      },
      "outputs": [],
      "source": [
        "!unzip -FF /content/drive/MyDrive/객체인식/test_image_F.zip "
      ]
    },
    {
      "cell_type": "code",
      "execution_count": null,
      "metadata": {
        "colab": {
          "base_uri": "https://localhost:8080/"
        },
        "id": "IcPgrbnDEYMx",
        "outputId": "bad4178b-ef50-46ae-f1b6-efc04c1035de"
      },
      "outputs": [],
      "source": [
        "!unzip -FF /content/drive/MyDrive/객체인식/test_image_S.zip "
      ]
    },
    {
      "cell_type": "code",
      "execution_count": null,
      "metadata": {
        "colab": {
          "base_uri": "https://localhost:8080/"
        },
        "id": "ytuBheJHEYBL",
        "outputId": "d25bf83f-eb00-4d25-cf43-508d54356b06"
      },
      "outputs": [],
      "source": [
        "!unzip -FF /content/drive/MyDrive/객체인식/test_image_N.zip "
      ]
    },
    {
      "cell_type": "markdown",
      "metadata": {
        "id": "T1uQtV7oNiRA"
      },
      "source": [
        "### 기본설정"
      ]
    },
    {
      "cell_type": "code",
      "execution_count": null,
      "metadata": {
        "colab": {
          "base_uri": "https://localhost:8080/"
        },
        "id": "TyfT1NVqQw4H",
        "outputId": "92184485-28e2-4bcd-81e0-3373434fbb87"
      },
      "outputs": [],
      "source": [
        "pip install geojson"
      ]
    },
    {
      "cell_type": "code",
      "execution_count": null,
      "metadata": {
        "id": "nlF_dTUVPiJd"
      },
      "outputs": [],
      "source": [
        "# import dependencies\n",
        "from IPython.display import display, Javascript, Image\n",
        "from google.colab.output import eval_js\n",
        "from google.colab.patches import cv2_imshow\n",
        "from base64 import b64decode, b64encode\n",
        "import cv2\n",
        "import numpy as np\n",
        "import PIL\n",
        "import io\n",
        "import html\n",
        "import time\n",
        "import os\n",
        "import matplotlib.pyplot as plt\n",
        "from google.colab import files\n",
        "import json\n",
        "\n",
        "%matplotlib inline"
      ]
    },
    {
      "cell_type": "markdown",
      "metadata": {
        "id": "On7ZMTULfsc6"
      },
      "source": [
        "### 기존 Bounding Box 좌표 값인 (x1, x2, y1, y2) →(박스중심X, 박스중심Y, w, h) 형식으로 바꾸는 함수 + 이미지 크기로 나눠서 nomalization "
      ]
    },
    {
      "cell_type": "code",
      "execution_count": null,
      "metadata": {
        "id": "gseMIIOkYi_k"
      },
      "outputs": [],
      "source": [
        "def bbox_n(bbox):\n",
        "  x_all=[]\n",
        "  y_all=[]\n",
        "  img_size_x  = 1920\n",
        "  img_size_y = 1080\n",
        "  img_padding_size = ((img_size_x - img_size_y) / 2)\n",
        "  img_padding_size_n = ((img_size_x - img_size_y) / 2) / img_size_x\n",
        "  img_size_y_p = img_size_y +2*img_padding_size\n",
        "  x1 = obj['box'][0] \n",
        "  y1 = obj['box'][1]\n",
        "  x2 = obj['box'][2] \n",
        "  y2 = obj['box'][3]\n",
        "  y1_p = obj['box'][1] + img_padding_size\n",
        "  y2_p = obj['box'][3] + img_padding_size\n",
        "\n",
        "\n",
        "  bbox_x =  (x1 + x2) / 2\n",
        "  bbox_y =  (y1_p + y2_p) / 2\n",
        "  bbox_w =  (x2 - x1)\n",
        "  bbox_h =  (y2 - y1)\n",
        "  bbox_n_x = bbox_x / img_size_x\n",
        "  bbox_n_y = bbox_y / img_size_y_p\n",
        "  bbox_n_w = bbox_w / img_size_x\n",
        "  bbox_n_h = bbox_h / img_size_y_p\n",
        "  #return [bbox_x,bbox_y,bbox_w,bbox_h]\n",
        "  return [bbox_n_x,bbox_n_y,bbox_n_w,bbox_n_h]"
      ]
    },
    {
      "cell_type": "markdown",
      "metadata": {
        "id": "iU-rKr9ggUEI"
      },
      "source": [
        "### 폴리곤의 좌표 값인 (x,y)들을 모아서 minmax을 통해 최소,최대값 구한후 →(박스중심X, 박스중심Y, w, h) 형식으로 바꾸는 함수 + 이미지 크기로 나눠서 nomalization  "
      ]
    },
    {
      "cell_type": "code",
      "execution_count": null,
      "metadata": {
        "id": "RuQphpMNVtjm"
      },
      "outputs": [],
      "source": [
        "def polygon_bbox_n(polygon):\n",
        "  x_all=[]\n",
        "  y_all=[]\n",
        "  img_size_x  = 1920\n",
        "  img_size_y = 1080\n",
        "  img_padding_size = ((img_size_x - img_size_y) / 2)\n",
        "  img_padding_size_n = ((img_size_x - img_size_y) / 2) / img_size_x\n",
        "  img_size_y_p = img_size_y +2*img_padding_size\n",
        "\n",
        "  for i in range(len(polygon)):\n",
        "    x_all.append(polygon[i][0])\n",
        "    y_all.append(polygon[i][1])\n",
        "\n",
        "  x_max = max(x_all)\n",
        "  y_max = max(y_all)\n",
        "  y_max_p = max(y_all) + img_padding_size #y좌표만 바뀜\n",
        "  x_min = min(x_all)\n",
        "  y_min = min(y_all)\n",
        "  y_min_p = min(y_all) + img_padding_size #y좌표만 바뀜\n",
        "\n",
        "  bbox_x = (x_max + x_min) / 2\n",
        "  bbox_y = (y_max_p + y_min_p) / 2\n",
        "  bbox_w = x_max - x_min\n",
        "  bbox_h = y_max - y_min\n",
        "  bbox_n_x = bbox_x / img_size_x\n",
        "  bbox_n_y = bbox_y / img_size_y_p\n",
        "  bbox_n_w = bbox_w / img_size_x\n",
        "  bbox_n_h = bbox_h / img_size_y_p\n",
        "  #return [bbox_x,bbox_y,bbox_w,bbox_h]\n",
        "  return [bbox_n_x,bbox_n_y,bbox_n_w,bbox_n_h]"
      ]
    },
    {
      "cell_type": "markdown",
      "metadata": {
        "id": "8khmyIkMdNC8"
      },
      "source": [
        "**화재씬 라벨 리사이즈 & 라벨 추가 등 전처리**"
      ]
    },
    {
      "cell_type": "markdown",
      "metadata": {
        "id": "F9HIvLuBivLU"
      },
      "source": [
        "# **Train Set 세팅**"
      ]
    },
    {
      "cell_type": "markdown",
      "metadata": {
        "id": "RqLQsqHdBnAK"
      },
      "source": [
        "**화재씬 라벨 리사이즈 & 라벨 추가 등 전처리**"
      ]
    },
    {
      "cell_type": "code",
      "execution_count": null,
      "metadata": {
        "id": "GlDmnLFxdNDD"
      },
      "outputs": [],
      "source": [
        "# import dependencies\n",
        "from IPython.display import display, Javascript, Image\n",
        "from google.colab.output import eval_js\n",
        "from google.colab.patches import cv2_imshow\n",
        "from base64 import b64decode, b64encode\n",
        "import cv2\n",
        "import numpy as np\n",
        "import PIL\n",
        "import io\n",
        "import html\n",
        "import time\n",
        "import os\n",
        "import matplotlib.pyplot as plt\n",
        "from tqdm import tqdm\n",
        "%matplotlib inline"
      ]
    },
    {
      "cell_type": "code",
      "execution_count": null,
      "metadata": {
        "id": "ClZD0qAidNDD"
      },
      "outputs": [],
      "source": [
        "# 경로를 문자열로 놓고 변수화하면 해당 경로의 파일들을 참조하여 읽어들이기 편함\n",
        "folder_path1 = '/content/train_image_F' \n",
        "label_names1 = os.listdir(folder_path1)\n",
        "label_names1"
      ]
    },
    {
      "cell_type": "code",
      "execution_count": null,
      "metadata": {
        "id": "YGfpjABhdNDE"
      },
      "outputs": [],
      "source": [
        "!mkdir resized_train_image_F"
      ]
    },
    {
      "cell_type": "code",
      "execution_count": null,
      "metadata": {
        "id": "TO7Fs8kb8534"
      },
      "outputs": [],
      "source": [
        "dataset1 = []\n",
        "for label in os.listdir(folder_path1):\n",
        "    sub_path1 = folder_path1+'/'+label # 세부 경로 지정\n",
        "    dataset1.append(sub_path1)\n",
        "dataset1"
      ]
    },
    {
      "cell_type": "code",
      "execution_count": null,
      "metadata": {
        "id": "U8DrZF5Z89ce"
      },
      "outputs": [],
      "source": [
        "import cv2\n",
        "import numpy as np\n",
        "folder_path1 #'/content/train_image_F'\n",
        "label_names1 \n",
        "\n",
        "for label_name in label_names1:\n",
        "  filename1 = folder_path1 +'/'+label_name\n",
        "\n",
        "  img1 = cv2.imread(filename1)\n",
        "\n",
        "  # 이미지의 x, y가 608이 넘을 경우 작게해주기\n",
        "  percent = 1\n",
        "  if(img1.shape[1] > img1.shape[0]) :       # 이미지의 가로가 세보다 크면 가로를 608으로 맞추고 세로를 비율에 맞춰서\n",
        "      percent = 608/img1.shape[1]\n",
        "  else :\n",
        "      percent = 608/img1.shape[0]\n",
        "  img1 = cv2.resize(img1, dsize=(0, 0), fx=percent, fy=percent, interpolation=cv2.INTER_LINEAR)\n",
        "\n",
        "  # 이미지 범위 지정\n",
        "  y,x,h,w = (0,0,img1.shape[0], img1.shape[1])\n",
        "\n",
        "  # 그림 주변에 검은색으로 칠하기\n",
        "  w_x = (608-(w-x))/2  # w_x = (608 - 그림)을 뺀 나머지 영역 크기 [ 그림나머지/2 [그림] 그림나머지/2 ]\n",
        "  h_y = (608-(h-y))/2\n",
        "\n",
        "  if(w_x < 0):         # 크기가 -면 0으로 지정.\n",
        "      w_x = 0\n",
        "  elif(h_y < 0):\n",
        "      h_y = 0\n",
        "\n",
        "  M = np.float32([[1,0,w_x], [0,1,h_y]])  #(2*3 이차원 행렬)\n",
        "  img_re1 = cv2.warpAffine(img1, M, (608, 608))\n",
        "  cv2.imwrite(f'/content/resized_train_image_F/{label_name}',img_re1)"
      ]
    },
    {
      "cell_type": "markdown",
      "metadata": {
        "id": "sxZEaYYQjAUr"
      },
      "source": [
        "**train_image_F(화재씬)에 대한 polygon , Bbox의 좌표를 (X,Y,w,h)의 형태로 통일시키는 작업 + normalization을 통해 절대좌표로 만들어주는 작업**"
      ]
    },
    {
      "cell_type": "code",
      "execution_count": null,
      "metadata": {
        "colab": {
          "base_uri": "https://localhost:8080/"
        },
        "id": "1ovfLVklL1uC",
        "outputId": "32615d8f-e62a-45b9-ac4e-49e02450200c"
      },
      "outputs": [],
      "source": [
        "for i in tqdm(json_file_01):\n",
        "  t = open(f'/content/resized_train_image_F/{i[:-5]}.txt', 'w') # i의 이름이 ~.json 이므로 슬라이싱으로 자르고 txt 파일로 생성 // json파일을 불러옴과 동시에 json파일의 이름과 같은 txt파일 생성\n",
        "  with open(f'/content/train_label/train_label_F/{i}', encoding = 'utf-8-sig') as data_file:\n",
        "    json_data = json.load(data_file) #json_data = local \n",
        "    bbox = json_data['annotations']#bbox = box\n",
        "    bbox_coordinate=[] #bbox_coordinate =  n\n",
        "    for obj in bbox: #obj = i\n",
        "      label = obj['class']\n",
        "      if('polygon' in obj.keys()):\n",
        "        bbox_coordinate.append(polygon_bbox_n(obj['polygon']))\n",
        "        coordinate_p = polygon_bbox_n(obj['polygon']) #함수들 통해 표준화(normalization)된 polygon들의 좌표값들\n",
        "        #print(f\"{label} {coordinate_p[0]} {coordinate_p[1]} {coordinate_p[2]} {coordinate_p[3]}\")\n",
        "        t.write(f\"{label} {coordinate_p[0]} {coordinate_p[1]} {coordinate_p[2]} {coordinate_p[3]}\\n\")  \n",
        "      else:\n",
        "        bbox_coordinate.append(bbox_n(obj['box']))\n",
        "        coordinate_b = bbox_n(obj['box']) #함수들 통해 표준화(normalization)된 바운딩박스의 좌표값들\n",
        "        t.write(f\"{label} {coordinate_b[0]} {coordinate_b[1]} {coordinate_b[2]} {coordinate_b[3]}\\n\") \n",
        "    t.close()"
      ]
    },
    {
      "cell_type": "markdown",
      "metadata": {
        "id": "-E-Ru0ljx-kk"
      },
      "source": [
        "**train_image_F(화재씬)의 리사이즈된 이미지와 json파일에서 필요한 정보를 뽑아 txt형식의 라벨 압축**"
      ]
    },
    {
      "cell_type": "code",
      "execution_count": null,
      "metadata": {
        "id": "xtprXseDYc3j"
      },
      "outputs": [],
      "source": [
        "# !zip -r /content/resized_train_image_F(608x608).zip /content/resized_train_image_F"
      ]
    },
    {
      "cell_type": "markdown",
      "metadata": {
        "id": "BSHMmIgKy1uP"
      },
      "source": [
        "**유사씬 라벨 리사이즈 & 라벨 추가 등 전처리**"
      ]
    },
    {
      "cell_type": "code",
      "execution_count": null,
      "metadata": {
        "id": "6sOwklIUy1uQ"
      },
      "outputs": [],
      "source": [
        "# import dependencies\n",
        "from IPython.display import display, Javascript, Image\n",
        "from google.colab.output import eval_js\n",
        "from google.colab.patches import cv2_imshow\n",
        "from base64 import b64decode, b64encode\n",
        "import cv2\n",
        "import numpy as np\n",
        "import PIL\n",
        "import io\n",
        "import html\n",
        "import time\n",
        "import os\n",
        "import matplotlib.pyplot as plt\n",
        "from tqdm import tqdm\n",
        "%matplotlib inline"
      ]
    },
    {
      "cell_type": "code",
      "execution_count": null,
      "metadata": {
        "colab": {
          "base_uri": "https://localhost:8080/"
        },
        "id": "lBEu_bQjy1uQ",
        "outputId": "06590a83-fb9e-4aee-d205-5222d13e3ad5"
      },
      "outputs": [],
      "source": [
        "# 경로를 문자열로 놓고 변수화하면 해당 경로의 파일들을 참조하여 읽어들이기 편함\n",
        "folder_path2 = '/content/train_image_S' \n",
        "label_names2 = os.listdir(folder_path2)\n",
        "label_names2"
      ]
    },
    {
      "cell_type": "code",
      "execution_count": null,
      "metadata": {
        "id": "1V3jU0Byy1uQ"
      },
      "outputs": [],
      "source": [
        "!mkdir resized_train_image_S"
      ]
    },
    {
      "cell_type": "code",
      "execution_count": null,
      "metadata": {
        "colab": {
          "base_uri": "https://localhost:8080/"
        },
        "id": "xMgHQiWVy1uQ",
        "outputId": "75aac72b-0371-45f7-d7c2-dd1959cb03c0"
      },
      "outputs": [],
      "source": [
        "dataset2 = []\n",
        "for label in os.listdir(folder_path2):\n",
        "    sub_path2 = folder_path2+'/'+label # 세부 경로 지정\n",
        "    dataset2.append(sub_path2)\n",
        "dataset2"
      ]
    },
    {
      "cell_type": "code",
      "execution_count": null,
      "metadata": {
        "id": "6OMNuLT1y1uQ"
      },
      "outputs": [],
      "source": [
        "import cv2\n",
        "import numpy as np\n",
        "folder_path2 #'/content/train_image_S'\n",
        "label_names2 \n",
        "\n",
        "for label_name in label_names2:\n",
        "  filename2 = folder_path2 +'/'+label_name\n",
        "\n",
        "  img2 = cv2.imread(filename2)\n",
        "\n",
        "  # 이미지의 x, y가 608이 넘을 경우 작게해주기\n",
        "  percent = 1\n",
        "  if(img2.shape[1] > img2.shape[0]) :       # 이미지의 가로가 세보다 크면 가로를 608으로 맞추고 세로를 비율에 맞춰서\n",
        "      percent = 608/img2.shape[1]\n",
        "  else :\n",
        "      percent = 608/img2.shape[0]\n",
        "  img2 = cv2.resize(img2, dsize=(0, 0), fx=percent, fy=percent, interpolation=cv2.INTER_LINEAR)\n",
        "\n",
        "  # 이미지 범위 지정\n",
        "  y,x,h,w = (0,0,img2.shape[0], img2.shape[1])\n",
        "\n",
        "  # 그림 주변에 검은색으로 칠하기\n",
        "  w_x = (608-(w-x))/2  # w_x = (608 - 그림)을 뺀 나머지 영역 크기 [ 그림나머지/2 [그림] 그림나머지/2 ]\n",
        "  h_y = (608-(h-y))/2\n",
        "\n",
        "  if(w_x < 0):         # 크기가 -면 0으로 지정.\n",
        "      w_x = 0\n",
        "  elif(h_y < 0):\n",
        "      h_y = 0\n",
        "\n",
        "  M = np.float32([[1,0,w_x], [0,1,h_y]])  #(2*3 이차원 행렬)\n",
        "  img_re2 = cv2.warpAffine(img2, M, (608, 608))\n",
        "  cv2.imwrite(f'/content/resized_train_image_S/{label_name}',img_re2)"
      ]
    },
    {
      "cell_type": "markdown",
      "metadata": {
        "id": "EA-Wo_DWy1uR"
      },
      "source": [
        "**train_image_S(유사씬)에 대한 polygon , Bbox의 좌표를 (X,Y,w,h)의 형태로 통일시키는 작업 + normalization을 통해 절대좌표로 만들어주는 작업**"
      ]
    },
    {
      "cell_type": "code",
      "execution_count": null,
      "metadata": {
        "colab": {
          "base_uri": "https://localhost:8080/"
        },
        "id": "b99Mxq23y1uR",
        "outputId": "c7a1eb89-4039-4751-fafd-6a225a651729"
      },
      "outputs": [],
      "source": [
        "for i in tqdm(json_file_02):\n",
        "  t = open(f'/content/resized_train_image_S/{i[:-5]}.txt', 'w') # i의 이름이 ~.json 이므로 슬라이싱으로 자르고 txt 파일로 생성 // json파일을 불러옴과 동시에 json파일의 이름과 같은 txt파일 생성\n",
        "  with open(f'/content/train_label/train_label_S/{i}', encoding = 'utf-8-sig') as data_file:\n",
        "    json_data = json.load(data_file) #json_data = local \n",
        "    bbox = json_data['annotations']#bbox = box\n",
        "    bbox_coordinate=[] #bbox_coordinate =  n\n",
        "    for obj in bbox: #obj = i\n",
        "      if obj['class'] == \"11\":\n",
        "        label = \"0\"\n",
        "        if('polygon' in obj.keys()):\n",
        "          bbox_coordinate.append(polygon_bbox_n(obj['polygon']))\n",
        "          coordinate_p = polygon_bbox_n(obj['polygon']) #함수들 통해 표준화(normalization)된 polygon들의 좌표값들\n",
        "          #print(f\"{label} {coordinate_p[0]} {coordinate_p[1]} {coordinate_p[2]} {coordinate_p[3]}\")\n",
        "          t.write(f\"{label} {coordinate_p[0]} {coordinate_p[1]} {coordinate_p[2]} {coordinate_p[3]}\\n\")  \n",
        "        else:\n",
        "          bbox_coordinate.append(bbox_n(obj['box']))\n",
        "          coordinate_b = bbox_n(obj['box']) #함수들 통해 표준화(normalization)된 바운딩박스의 좌표값들\n",
        "          t.write(f\"{label} {coordinate_b[0]} {coordinate_b[1]} {coordinate_b[2]} {coordinate_b[3]}\\n\") \n",
        "      else:\n",
        "        label = obj['class']\n",
        "        if('polygon' in obj.keys()):\n",
        "          bbox_coordinate.append(polygon_bbox_n(obj['polygon']))\n",
        "          coordinate_p = polygon_bbox_n(obj['polygon']) #함수들 통해 표준화(normalization)된 polygon들의 좌표값들\n",
        "          #print(f\"{label} {coordinate_p[0]} {coordinate_p[1]} {coordinate_p[2]} {coordinate_p[3]}\")\n",
        "          t.write(f\"{label} {coordinate_p[0]} {coordinate_p[1]} {coordinate_p[2]} {coordinate_p[3]}\\n\")  \n",
        "        else:\n",
        "          bbox_coordinate.append(bbox_n(obj['box']))\n",
        "          coordinate_b = bbox_n(obj['box']) #함수들 통해 표준화(normalization)된 바운딩박스의 좌표값들\n",
        "          t.write(f\"{label} {coordinate_b[0]} {coordinate_b[1]} {coordinate_b[2]} {coordinate_b[3]}\\n\") \n",
        "    t.close()"
      ]
    },
    {
      "cell_type": "markdown",
      "metadata": {
        "id": "KKTAcJ41y1uR"
      },
      "source": [
        "**train_image_S(유사씬)의 리사이즈된 이미지와 json파일에서 필요한 정보를 뽑아 txt형식의 라벨 압축**"
      ]
    },
    {
      "cell_type": "code",
      "execution_count": null,
      "metadata": {
        "id": "AiaAZjYwy1uR"
      },
      "outputs": [],
      "source": [
        "# !zip -r /content/resized_train_image_S(608x608).zip /content/resized_train_image_S"
      ]
    },
    {
      "cell_type": "markdown",
      "metadata": {
        "id": "e7_iFvpi08Z8"
      },
      "source": [
        "**무관씬 라벨 리사이즈 & 라벨 추가 등 전처리**"
      ]
    },
    {
      "cell_type": "code",
      "execution_count": null,
      "metadata": {
        "id": "HxmnQ8Yb08Z9"
      },
      "outputs": [],
      "source": [
        "# import dependencies\n",
        "from IPython.display import display, Javascript, Image\n",
        "from google.colab.output import eval_js\n",
        "from google.colab.patches import cv2_imshow\n",
        "from base64 import b64decode, b64encode\n",
        "import cv2\n",
        "import numpy as np\n",
        "import PIL\n",
        "import io\n",
        "import html\n",
        "import time\n",
        "import os\n",
        "import matplotlib.pyplot as plt\n",
        "from tqdm import tqdm\n",
        "%matplotlib inline"
      ]
    },
    {
      "cell_type": "code",
      "execution_count": null,
      "metadata": {
        "colab": {
          "base_uri": "https://localhost:8080/"
        },
        "id": "ungjx7y308Z9",
        "outputId": "39c564eb-bbf4-426e-dbcf-83facd3ad4d1"
      },
      "outputs": [],
      "source": [
        "# 경로를 문자열로 놓고 변수화하면 해당 경로의 파일들을 참조하여 읽어들이기 편함\n",
        "folder_path3 = '/content/train_image_N' \n",
        "label_names3 = os.listdir(folder_path3)\n",
        "label_names3"
      ]
    },
    {
      "cell_type": "code",
      "execution_count": null,
      "metadata": {
        "id": "4Mlwi0o908Z9"
      },
      "outputs": [],
      "source": [
        "!mkdir resized_train_image_N"
      ]
    },
    {
      "cell_type": "code",
      "execution_count": null,
      "metadata": {
        "colab": {
          "base_uri": "https://localhost:8080/"
        },
        "id": "rFFjH_Zs08Z9",
        "outputId": "fae5b400-9bc1-4e35-981e-4fc4377636dc"
      },
      "outputs": [],
      "source": [
        "dataset3 = []\n",
        "for label in os.listdir(folder_path3):\n",
        "    sub_path3 = folder_path3+'/'+label # 세부 경로 지정\n",
        "    dataset3.append(sub_path3)\n",
        "dataset3"
      ]
    },
    {
      "cell_type": "code",
      "execution_count": null,
      "metadata": {
        "id": "x7M7lKr_08Z9"
      },
      "outputs": [],
      "source": [
        "import cv2\n",
        "import numpy as np\n",
        "folder_path3 #'/content/train_image_N'\n",
        "label_names3 \n",
        "\n",
        "for label_name in label_names3:\n",
        "  filename3 = folder_path3 +'/'+label_name\n",
        "\n",
        "  img3 = cv2.imread(filename3)\n",
        "\n",
        "  # 이미지의 x, y가 608이 넘을 경우 작게해주기\n",
        "  percent = 1\n",
        "  if(img3.shape[1] > img3.shape[0]) :       # 이미지의 가로가 세보다 크면 가로를 608으로 맞추고 세로를 비율에 맞춰서\n",
        "      percent = 608/img3.shape[1]\n",
        "  else :\n",
        "      percent = 608/img3.shape[0]\n",
        "  img3 = cv2.resize(img3, dsize=(0, 0), fx=percent, fy=percent, interpolation=cv2.INTER_LINEAR)\n",
        "\n",
        "  # 이미지 범위 지정\n",
        "  y,x,h,w = (0,0,img3.shape[0], img3.shape[1])\n",
        "\n",
        "  # 그림 주변에 검은색으로 칠하기\n",
        "  w_x = (608-(w-x))/2  # w_x = (608 - 그림)을 뺀 나머지 영역 크기 [ 그림나머지/2 [그림] 그림나머지/2 ]\n",
        "  h_y = (608-(h-y))/2\n",
        "\n",
        "  if(w_x < 0):         # 크기가 -면 0으로 지정.\n",
        "      w_x = 0\n",
        "  elif(h_y < 0):\n",
        "      h_y = 0\n",
        "\n",
        "  M = np.float32([[1,0,w_x], [0,1,h_y]])  #(2*3 이차원 행렬)\n",
        "  img_re3 = cv2.warpAffine(img3, M, (608, 608))\n",
        "  cv2.imwrite(f'/content/resized_train_image_N/{label_name}',img_re3)"
      ]
    },
    {
      "cell_type": "markdown",
      "metadata": {
        "id": "IqtgxpQO08Z9"
      },
      "source": [
        "**train_image_N(무관씬)에 대한 polygon , Bbox의 좌표를 (X,Y,w,h)의 형태로 통일시키는 작업 + normalization을 통해 절대좌표로 만들어주는 작업**\n",
        "\n",
        "\n",
        "---\n",
        "**우리가 쓰는 JSON파일의 클래스가 1-11이여서 0이 필요하기 때문에 11번인 무관씬을 0으로 바꿔주는 작업을 해야된다.**\n"
      ]
    },
    {
      "cell_type": "code",
      "execution_count": null,
      "metadata": {
        "colab": {
          "base_uri": "https://localhost:8080/"
        },
        "id": "4Z3PIHU008Z9",
        "outputId": "78618374-90ee-4f27-e667-e45ee90691df"
      },
      "outputs": [],
      "source": [
        "for i in tqdm(json_file_03):\n",
        "  t = open(f'/content/resized_train_image_N/{i[:-5]}.txt', 'w') # i의 이름이 ~.json 이므로 슬라이싱으로 자르고 txt 파일로 생성 // json파일을 불러옴과 동시에 json파일의 이름과 같은 txt파일 생성\n",
        "  with open(f'/content/train_label/train_label_N/{i}', encoding = 'utf-8-sig') as data_file:\n",
        "    json_data = json.load(data_file) #json_data = local \n",
        "    bbox = json_data['annotations']#bbox = box\n",
        "    bbox_coordinate=[] #bbox_coordinate =  n\n",
        "    for obj in bbox: #obj = i\n",
        "    #우리가 쓰는 JSON파일의 클래스가 1-11이여서 0이 필요하기 때문에 11번인 무관씬을 0으로 바꿔주는 작업을 해야된다. \n",
        "      if obj['class'] == \"11\":\n",
        "        label = \"0\"\n",
        "        if('polygon' in obj.keys()):\n",
        "          bbox_coordinate.append(polygon_bbox_n(obj['polygon']))\n",
        "          coordinate_p = polygon_bbox_n(obj['polygon']) #함수들 통해 표준화(normalization)된 polygon들의 좌표값들\n",
        "          #print(f\"{label} {coordinate_p[0]} {coordinate_p[1]} {coordinate_p[2]} {coordinate_p[3]}\")\n",
        "          t.write(f\"{label} {coordinate_p[0]} {coordinate_p[1]} {coordinate_p[2]} {coordinate_p[3]}\\n\")  \n",
        "        else:\n",
        "          bbox_coordinate.append(bbox_n(obj['box']))\n",
        "          coordinate_b = bbox_n(obj['box']) #함수들 통해 표준화(normalization)된 바운딩박스의 좌표값들\n",
        "          t.write(f\"{label} {coordinate_b[0]} {coordinate_b[1]} {coordinate_b[2]} {coordinate_b[3]}\\n\") \n",
        "      else:\n",
        "        label = obj['class']\n",
        "        if('polygon' in obj.keys()):\n",
        "          bbox_coordinate.append(polygon_bbox_n(obj['polygon']))\n",
        "          coordinate_p = polygon_bbox_n(obj['polygon']) #함수들 통해 표준화(normalization)된 polygon들의 좌표값들\n",
        "          #print(f\"{label} {coordinate_p[0]} {coordinate_p[1]} {coordinate_p[2]} {coordinate_p[3]}\")\n",
        "          t.write(f\"{label} {coordinate_p[0]} {coordinate_p[1]} {coordinate_p[2]} {coordinate_p[3]}\\n\")  \n",
        "        else:\n",
        "          bbox_coordinate.append(bbox_n(obj['box']))\n",
        "          coordinate_b = bbox_n(obj['box']) #함수들 통해 표준화(normalization)된 바운딩박스의 좌표값들\n",
        "          t.write(f\"{label} {coordinate_b[0]} {coordinate_b[1]} {coordinate_b[2]} {coordinate_b[3]}\\n\") \n",
        "    t.close()"
      ]
    },
    {
      "cell_type": "markdown",
      "metadata": {
        "id": "Q-RXtyve08Z-"
      },
      "source": [
        "**train_image_N(무관씬)의 리사이즈된 이미지와 json파일에서 필요한 정보를 뽑아 txt형식의 라벨 압축**"
      ]
    },
    {
      "cell_type": "code",
      "execution_count": null,
      "metadata": {
        "id": "maNQ1PK-08Z-"
      },
      "outputs": [],
      "source": [
        "# !zip -r /content/resized_train_image_N(608x608).zip /content/resized_train_image_N"
      ]
    },
    {
      "cell_type": "markdown",
      "metadata": {
        "id": "3qWg1dYOi8ma"
      },
      "source": [
        "# **Validation Set 세팅**"
      ]
    },
    {
      "cell_type": "markdown",
      "metadata": {
        "id": "38uXDym_CK1s"
      },
      "source": [
        "**화재씬 라벨 리사이즈 & 라벨 추가 등 전처리**"
      ]
    },
    {
      "cell_type": "code",
      "execution_count": null,
      "metadata": {
        "id": "5lXsv_5TCK1t"
      },
      "outputs": [],
      "source": [
        "# import dependencies\n",
        "from IPython.display import display, Javascript, Image\n",
        "from google.colab.output import eval_js\n",
        "from google.colab.patches import cv2_imshow\n",
        "from base64 import b64decode, b64encode\n",
        "import cv2\n",
        "import numpy as np\n",
        "import PIL\n",
        "import io\n",
        "import html\n",
        "import time\n",
        "import os\n",
        "import matplotlib.pyplot as plt\n",
        "%matplotlib inline"
      ]
    },
    {
      "cell_type": "code",
      "execution_count": null,
      "metadata": {
        "id": "v6PebN7dCK1t"
      },
      "outputs": [],
      "source": [
        "# 경로를 문자열로 놓고 변수화하면 해당 경로의 파일들을 참조하여 읽어들이기 편함\n",
        "folder_path4 = '/content/valid_image_F' \n",
        "label_names4 = os.listdir(folder_path4)\n",
        "label_names4"
      ]
    },
    {
      "cell_type": "code",
      "execution_count": null,
      "metadata": {
        "id": "z3r-eBHUCK1t"
      },
      "outputs": [],
      "source": [
        "!mkdir resized_valid_image_F"
      ]
    },
    {
      "cell_type": "code",
      "execution_count": null,
      "metadata": {
        "id": "0Csg0m3hCK1t"
      },
      "outputs": [],
      "source": [
        "dataset4 = []\n",
        "for label in os.listdir(folder_path4):\n",
        "    sub_path4 = folder_path4+'/'+label # 세부 경로 지정\n",
        "    dataset4.append(sub_path4)\n",
        "dataset4"
      ]
    },
    {
      "cell_type": "code",
      "execution_count": null,
      "metadata": {
        "id": "2VHwT2rWCK1t"
      },
      "outputs": [],
      "source": [
        "import cv2\n",
        "import numpy as np\n",
        "folder_path4 #'/content/valid_image_F'\n",
        "label_names4 \n",
        "#filename =[]\n",
        "for label_name in label_names4:\n",
        "  filename4 = folder_path4 +'/'+label_name\n",
        "\n",
        "  img4 = cv2.imread(filename4)\n",
        "\n",
        "  # 이미지의 x, y가 1920이 넘을 경우 작게해주기\n",
        "  percent = 1\n",
        "  if(img4.shape[1] > img4.shape[0]) :       # 이미지의 가로가 세보다 크면 가로를 300으로 맞추고 세로를 비율에 맞춰서\n",
        "      percent = 608/img4.shape[1]\n",
        "  else :\n",
        "      percent = 608/img4.shape[0]\n",
        "  img4 = cv2.resize(img4, dsize=(0, 0), fx=percent, fy=percent, interpolation=cv2.INTER_LINEAR)\n",
        "\n",
        "  # 이미지 범위 지정\n",
        "  y,x,h,w = (0,0,img4.shape[0], img4.shape[1])\n",
        "\n",
        "  # 그림 주변에 검은색으로 칠하기\n",
        "  w_x = (608-(w-x))/2  # w_x = (1920 - 그림)을 뺀 나머지 영역 크기 [ 그림나머지/2 [그림] 그림나머지/2 ]\n",
        "  h_y = (608-(h-y))/2\n",
        "\n",
        "  if(w_x < 0):         # 크기가 -면 0으로 지정.\n",
        "      w_x = 0\n",
        "  elif(h_y < 0):\n",
        "      h_y = 0\n",
        "\n",
        "  M = np.float32([[1,0,w_x], [0,1,h_y]])  #(2*3 이차원 행렬)\n",
        "  img_re4 = cv2.warpAffine(img4, M, (608, 608))\n",
        "  cv2.imwrite(f'/content/resized_valid_image_F/{label_name}',img_re4)\n",
        "#cv2.imshow(\"img_re\", img_re)\n",
        "#plt.imshow(cv2.imread('/content/image_03/S3-N0801MN04479.jpg'))"
      ]
    },
    {
      "cell_type": "code",
      "execution_count": null,
      "metadata": {
        "colab": {
          "base_uri": "https://localhost:8080/",
          "height": 49,
          "referenced_widgets": [
            "fc58253c619d4ec18a904c54cb4d59ef",
            "c99bcaffd33c4c738aa7790dc77a8690",
            "39b89022b2ce4737a2bf5e8a2db9b009",
            "5013ef0947714190af3af76d49608a5a",
            "aee5946f04404c599789e3e8a33f83ee",
            "8a40e6ba9c3b45e991394d37e2560a24",
            "27eb714c9a6c47d88028882a7916a869",
            "62d29e91169949cf8b9e3cd91d32e607",
            "0a56757f4668473d81d817c1217a11d8",
            "3b6ef006b9b0412585ba25009da253ec",
            "b4dd45208ec340219ffbc8b160eab5cb"
          ]
        },
        "id": "VULEt2XYCK1t",
        "outputId": "28596cc3-eb5e-432f-d689-9ea8c145214d"
      },
      "outputs": [],
      "source": [
        "for i in tqdm(json_file_04):\n",
        "  t = open(f'/content/resized_valid_image_F/{i[:-5]}.txt', 'w') # i의 이름이 ~.json 이므로 슬라이싱으로 자르고 txt 파일로 생성 // json파일을 불러옴과 동시에 json파일의 이름과 같은 txt파일 생성\n",
        "  with open(f'/content/valid_label/valid_label_F/{i}', encoding = 'utf-8-sig') as data_file:\n",
        "    json_data = json.load(data_file) #json_data = local \n",
        "    bbox = json_data['annotations']#bbox = box\n",
        "    bbox_coordinate=[] #bbox_coordinate =  n\n",
        "    for obj in bbox: #obj = i\n",
        "      if obj['class'] == \"11\":\n",
        "        label = \"0\"\n",
        "        if('polygon' in obj.keys()):\n",
        "          bbox_coordinate.append(polygon_bbox_n(obj['polygon']))\n",
        "          coordinate_p = polygon_bbox_n(obj['polygon']) #함수들 통해 표준화(normalization)된 polygon들의 좌표값들\n",
        "          #print(f\"{label} {coordinate_p[0]} {coordinate_p[1]} {coordinate_p[2]} {coordinate_p[3]}\")\n",
        "          t.write(f\"{label} {coordinate_p[0]} {coordinate_p[1]} {coordinate_p[2]} {coordinate_p[3]}\\n\")  \n",
        "        else:\n",
        "          bbox_coordinate.append(bbox_n(obj['box']))\n",
        "          coordinate_b = bbox_n(obj['box']) #함수들 통해 표준화(normalization)된 바운딩박스의 좌표값들\n",
        "          t.write(f\"{label} {coordinate_b[0]} {coordinate_b[1]} {coordinate_b[2]} {coordinate_b[3]}\\n\") \n",
        "      else:\n",
        "        label = obj['class']\n",
        "        if('polygon' in obj.keys()):\n",
        "          bbox_coordinate.append(polygon_bbox_n(obj['polygon']))\n",
        "          coordinate_p = polygon_bbox_n(obj['polygon']) #함수들 통해 표준화(normalization)된 polygon들의 좌표값들\n",
        "          #print(f\"{label} {coordinate_p[0]} {coordinate_p[1]} {coordinate_p[2]} {coordinate_p[3]}\")\n",
        "          t.write(f\"{label} {coordinate_p[0]} {coordinate_p[1]} {coordinate_p[2]} {coordinate_p[3]}\\n\")  \n",
        "        else:\n",
        "          bbox_coordinate.append(bbox_n(obj['box']))\n",
        "          coordinate_b = bbox_n(obj['box']) #함수들 통해 표준화(normalization)된 바운딩박스의 좌표값들\n",
        "          t.write(f\"{label} {coordinate_b[0]} {coordinate_b[1]} {coordinate_b[2]} {coordinate_b[3]}\\n\") \n",
        "    t.close()"
      ]
    },
    {
      "cell_type": "markdown",
      "metadata": {
        "id": "QOU6SRfkF71X"
      },
      "source": [
        "**valid_image_F(화재씬)의 리사이즈된 이미지와 json파일에서 필요한 정보를 뽑아 txt형식의 라벨 압축**"
      ]
    },
    {
      "cell_type": "code",
      "execution_count": null,
      "metadata": {
        "id": "gIpQcSVPF71Y"
      },
      "outputs": [],
      "source": [
        "# !zip -r /content/resized_valid_image_F(608x608).zip /content/resized_valid_image_F"
      ]
    },
    {
      "cell_type": "markdown",
      "metadata": {
        "id": "drvOGc8jDNUB"
      },
      "source": [
        "**유사씬 라벨 리사이즈 & 라벨 추가 등 전처리**"
      ]
    },
    {
      "cell_type": "code",
      "execution_count": null,
      "metadata": {
        "id": "BdkzZ71XDNUB"
      },
      "outputs": [],
      "source": [
        "# import dependencies\n",
        "from IPython.display import display, Javascript, Image\n",
        "from google.colab.output import eval_js\n",
        "from google.colab.patches import cv2_imshow\n",
        "from base64 import b64decode, b64encode\n",
        "import cv2\n",
        "import numpy as np\n",
        "import PIL\n",
        "import io\n",
        "import html\n",
        "import time\n",
        "import os\n",
        "import matplotlib.pyplot as plt\n",
        "%matplotlib inline"
      ]
    },
    {
      "cell_type": "code",
      "execution_count": null,
      "metadata": {
        "id": "2km3tsjuDNUC"
      },
      "outputs": [],
      "source": [
        "# 경로를 문자열로 놓고 변수화하면 해당 경로의 파일들을 참조하여 읽어들이기 편함\n",
        "folder_path5 = '/content/valid_image_S' \n",
        "label_names5 = os.listdir(folder_path5)\n",
        "label_names5"
      ]
    },
    {
      "cell_type": "code",
      "execution_count": null,
      "metadata": {
        "id": "uVdxHOKxDNUC"
      },
      "outputs": [],
      "source": [
        "!mkdir resized_valid_image_S"
      ]
    },
    {
      "cell_type": "code",
      "execution_count": null,
      "metadata": {
        "id": "6PXkVuURDNUC"
      },
      "outputs": [],
      "source": [
        "dataset5 = []\n",
        "for label in os.listdir(folder_path5):\n",
        "    sub_path5 = folder_path5+'/'+label # 세부 경로 지정\n",
        "    dataset5.append(sub_path5)\n",
        "dataset5"
      ]
    },
    {
      "cell_type": "code",
      "execution_count": null,
      "metadata": {
        "id": "LqAg7qbcDNUC"
      },
      "outputs": [],
      "source": [
        "import cv2\n",
        "import numpy as np\n",
        "folder_path5 #'/content/valid_image_S'\n",
        "label_names5 \n",
        "#filename =[]\n",
        "for label_name in label_names5:\n",
        "  filename5 = folder_path5 +'/'+label_name\n",
        "\n",
        "  img5 = cv2.imread(filename5)\n",
        "\n",
        "  # 이미지의 x, y가 608이 넘을 경우 작게해주기\n",
        "  percent = 1\n",
        "  if(img5.shape[1] > img5.shape[0]) :       # 이미지의 가로가 세보다 크면 가로를 608으로 맞추고 세로를 비율에 맞춰서\n",
        "      percent = 608/img5.shape[1]\n",
        "  else :\n",
        "      percent = 608/img5.shape[0]\n",
        "  img5 = cv2.resize(img5, dsize=(0, 0), fx=percent, fy=percent, interpolation=cv2.INTER_LINEAR)\n",
        "\n",
        "  # 이미지 범위 지정\n",
        "  y,x,h,w = (0,0,img5.shape[0], img5.shape[1])\n",
        "\n",
        "  # 그림 주변에 검은색으로 칠하기\n",
        "  w_x = (608-(w-x))/2  # w_x = (1920 - 그림)을 뺀 나머지 영역 크기 [ 그림나머지/2 [그림] 그림나머지/2 ]\n",
        "  h_y = (608-(h-y))/2\n",
        "\n",
        "  if(w_x < 0):         # 크기가 -면 0으로 지정.\n",
        "      w_x = 0\n",
        "  elif(h_y < 0):\n",
        "      h_y = 0\n",
        "\n",
        "  M = np.float32([[1,0,w_x], [0,1,h_y]])  #(2*3 이차원 행렬)\n",
        "  img_re5 = cv2.warpAffine(img5, M, (608, 608))\n",
        "  cv2.imwrite(f'/content/resized_valid_image_S/{label_name}',img_re5)\n",
        "#cv2.imshow(\"img_re\", img_re)\n",
        "#plt.imshow(cv2.imread('/content/image_03/S3-N0801MN04479.jpg'))"
      ]
    },
    {
      "cell_type": "code",
      "execution_count": null,
      "metadata": {
        "colab": {
          "base_uri": "https://localhost:8080/",
          "height": 49,
          "referenced_widgets": [
            "fc58253c619d4ec18a904c54cb4d59ef",
            "c99bcaffd33c4c738aa7790dc77a8690",
            "39b89022b2ce4737a2bf5e8a2db9b009",
            "5013ef0947714190af3af76d49608a5a",
            "aee5946f04404c599789e3e8a33f83ee",
            "8a40e6ba9c3b45e991394d37e2560a24",
            "27eb714c9a6c47d88028882a7916a869",
            "62d29e91169949cf8b9e3cd91d32e607",
            "0a56757f4668473d81d817c1217a11d8",
            "3b6ef006b9b0412585ba25009da253ec",
            "b4dd45208ec340219ffbc8b160eab5cb"
          ]
        },
        "id": "xqU-d8kCDNUD",
        "outputId": "28596cc3-eb5e-432f-d689-9ea8c145214d"
      },
      "outputs": [],
      "source": [
        "for i in tqdm(json_file_05):\n",
        "  t = open(f'/content/resized_valid_image_S/{i[:-5]}.txt', 'w') # i의 이름이 ~.json 이므로 슬라이싱으로 자르고 txt 파일로 생성 // json파일을 불러옴과 동시에 json파일의 이름과 같은 txt파일 생성\n",
        "  with open(f'/content/valid_label/valid_label_S/{i}', encoding = 'utf-8-sig') as data_file:\n",
        "    json_data = json.load(data_file) #json_data = local \n",
        "    bbox = json_data['annotations']#bbox = box\n",
        "    bbox_coordinate=[] #bbox_coordinate =  n\n",
        "    for obj in bbox: #obj = i\n",
        "      if obj['class'] == \"11\":\n",
        "        label = \"0\"\n",
        "        if('polygon' in obj.keys()):\n",
        "          bbox_coordinate.append(polygon_bbox_n(obj['polygon']))\n",
        "          coordinate_p = polygon_bbox_n(obj['polygon']) #함수들 통해 표준화(normalization)된 polygon들의 좌표값들\n",
        "          #print(f\"{label} {coordinate_p[0]} {coordinate_p[1]} {coordinate_p[2]} {coordinate_p[3]}\")\n",
        "          t.write(f\"{label} {coordinate_p[0]} {coordinate_p[1]} {coordinate_p[2]} {coordinate_p[3]}\\n\")  \n",
        "        else:\n",
        "          bbox_coordinate.append(bbox_n(obj['box']))\n",
        "          coordinate_b = bbox_n(obj['box']) #함수들 통해 표준화(normalization)된 바운딩박스의 좌표값들\n",
        "          t.write(f\"{label} {coordinate_b[0]} {coordinate_b[1]} {coordinate_b[2]} {coordinate_b[3]}\\n\") \n",
        "      else:\n",
        "        label = obj['class']\n",
        "        if('polygon' in obj.keys()):\n",
        "          bbox_coordinate.append(polygon_bbox_n(obj['polygon']))\n",
        "          coordinate_p = polygon_bbox_n(obj['polygon']) #함수들 통해 표준화(normalization)된 polygon들의 좌표값들\n",
        "          #print(f\"{label} {coordinate_p[0]} {coordinate_p[1]} {coordinate_p[2]} {coordinate_p[3]}\")\n",
        "          t.write(f\"{label} {coordinate_p[0]} {coordinate_p[1]} {coordinate_p[2]} {coordinate_p[3]}\\n\")  \n",
        "        else:\n",
        "          bbox_coordinate.append(bbox_n(obj['box']))\n",
        "          coordinate_b = bbox_n(obj['box']) #함수들 통해 표준화(normalization)된 바운딩박스의 좌표값들\n",
        "          t.write(f\"{label} {coordinate_b[0]} {coordinate_b[1]} {coordinate_b[2]} {coordinate_b[3]}\\n\") \n",
        "    t.close()"
      ]
    },
    {
      "cell_type": "markdown",
      "metadata": {
        "id": "Kt9BY8QyFqCF"
      },
      "source": [
        "**valid_image_S(유사씬)의 리사이즈된 이미지와 json파일에서 필요한 정보를 뽑아 txt형식의 라벨 압축**"
      ]
    },
    {
      "cell_type": "code",
      "execution_count": null,
      "metadata": {
        "id": "G6blQ9fNFqCG"
      },
      "outputs": [],
      "source": [
        "# !zip -r /content/resized_valid_image_S(608x608).zip /content/resized_valid_image_S"
      ]
    },
    {
      "cell_type": "markdown",
      "metadata": {
        "id": "uzXU5ughGiVj"
      },
      "source": [
        "**무관씬 라벨 리사이즈 & 라벨 추가 등 전처리**"
      ]
    },
    {
      "cell_type": "code",
      "execution_count": null,
      "metadata": {
        "id": "Rl8j1NpwGiVk"
      },
      "outputs": [],
      "source": [
        "# import dependencies\n",
        "from IPython.display import display, Javascript, Image\n",
        "from google.colab.output import eval_js\n",
        "from google.colab.patches import cv2_imshow\n",
        "from base64 import b64decode, b64encode\n",
        "import cv2\n",
        "import numpy as np\n",
        "import PIL\n",
        "import io\n",
        "import html\n",
        "import time\n",
        "import os\n",
        "import matplotlib.pyplot as plt\n",
        "%matplotlib inline"
      ]
    },
    {
      "cell_type": "code",
      "execution_count": null,
      "metadata": {
        "id": "i6LGVk8wGiVk"
      },
      "outputs": [],
      "source": [
        "# 경로를 문자열로 놓고 변수화하면 해당 경로의 파일들을 참조하여 읽어들이기 편함\n",
        "folder_path6 = '/content/valid_image_N' \n",
        "label_names6 = os.listdir(folder_path6)\n",
        "label_names6"
      ]
    },
    {
      "cell_type": "code",
      "execution_count": null,
      "metadata": {
        "id": "YmYISxnkGiVk"
      },
      "outputs": [],
      "source": [
        "!mkdir resized_valid_image_N"
      ]
    },
    {
      "cell_type": "code",
      "execution_count": null,
      "metadata": {
        "id": "RC5In7-OGiVk"
      },
      "outputs": [],
      "source": [
        "dataset6 = []\n",
        "for label in os.listdir(folder_path6):\n",
        "    sub_path6 = folder_path6 +'/'+label # 세부 경로 지정\n",
        "    dataset6.append(sub_path6)\n",
        "dataset6"
      ]
    },
    {
      "cell_type": "code",
      "execution_count": null,
      "metadata": {
        "id": "_jGTTeaLGiVk"
      },
      "outputs": [],
      "source": [
        "import cv2\n",
        "import numpy as np\n",
        "folder_path6 #'/content/valid_image_N'\n",
        "label_names6 \n",
        "#filename =[]\n",
        "for label_name in label_names6:\n",
        "  filename6 = folder_path6 +'/'+label_name\n",
        "\n",
        "  img6 = cv2.imread(filename6)\n",
        "\n",
        "  # 이미지의 x, y가 608이 넘을 경우 작게해주기\n",
        "  percent = 1\n",
        "  if(img6.shape[1] > img6.shape[0]) :       # 이미지의 가로가 세보다 크면 가로를 608으로 맞추고 세로를 비율에 맞춰서\n",
        "      percent = 608/img6.shape[1]\n",
        "  else :\n",
        "      percent = 608/img6.shape[0]\n",
        "  img6 = cv2.resize(img6, dsize=(0, 0), fx=percent, fy=percent, interpolation=cv2.INTER_LINEAR)\n",
        "\n",
        "  # 이미지 범위 지정\n",
        "  y,x,h,w = (0,0,img6.shape[0], img6.shape[1])\n",
        "\n",
        "  # 그림 주변에 검은색으로 칠하기\n",
        "  w_x = (608-(w-x))/2  # w_x = (1920 - 그림)을 뺀 나머지 영역 크기 [ 그림나머지/2 [그림] 그림나머지/2 ]\n",
        "  h_y = (608-(h-y))/2\n",
        "\n",
        "  if(w_x < 0):         # 크기가 -면 0으로 지정.\n",
        "      w_x = 0\n",
        "  elif(h_y < 0):\n",
        "      h_y = 0\n",
        "\n",
        "  M = np.float32([[1,0,w_x], [0,1,h_y]])  #(2*3 이차원 행렬)\n",
        "  img_re6 = cv2.warpAffine(img6, M, (608, 608))\n",
        "  cv2.imwrite(f'/content/resized_valid_image_N/{label_name}',img_re6)\n",
        "#cv2.imshow(\"img_re\", img_re)\n",
        "#plt.imshow(cv2.imread('/content/image_03/S3-N0801MN04479.jpg'))"
      ]
    },
    {
      "cell_type": "code",
      "execution_count": null,
      "metadata": {
        "colab": {
          "base_uri": "https://localhost:8080/",
          "height": 49,
          "referenced_widgets": [
            "fc58253c619d4ec18a904c54cb4d59ef",
            "c99bcaffd33c4c738aa7790dc77a8690",
            "39b89022b2ce4737a2bf5e8a2db9b009",
            "5013ef0947714190af3af76d49608a5a",
            "aee5946f04404c599789e3e8a33f83ee",
            "8a40e6ba9c3b45e991394d37e2560a24",
            "27eb714c9a6c47d88028882a7916a869",
            "62d29e91169949cf8b9e3cd91d32e607",
            "0a56757f4668473d81d817c1217a11d8",
            "3b6ef006b9b0412585ba25009da253ec",
            "b4dd45208ec340219ffbc8b160eab5cb"
          ]
        },
        "id": "KbRZrw6-GiVk",
        "outputId": "28596cc3-eb5e-432f-d689-9ea8c145214d"
      },
      "outputs": [],
      "source": [
        "for i in tqdm(json_file_06):\n",
        "  t = open(f'/content/resized_valid_image_N/{i[:-5]}.txt', 'w') # i의 이름이 ~.json 이므로 슬라이싱으로 자르고 txt 파일로 생성 // json파일을 불러옴과 동시에 json파일의 이름과 같은 txt파일 생성\n",
        "  with open(f'/content/valid_label/valid_label_N/{i}', encoding = 'utf-8-sig') as data_file:\n",
        "    json_data = json.load(data_file) #json_data = local \n",
        "    bbox = json_data['annotations']#bbox = box\n",
        "    bbox_coordinate=[] #bbox_coordinate =  n\n",
        "    for obj in bbox: #obj = i\n",
        "      if obj['class'] == \"11\":\n",
        "        label = \"0\"\n",
        "        if('polygon' in obj.keys()):\n",
        "          bbox_coordinate.append(polygon_bbox_n(obj['polygon']))\n",
        "          coordinate_p = polygon_bbox_n(obj['polygon']) #함수들 통해 표준화(normalization)된 polygon들의 좌표값들\n",
        "          #print(f\"{label} {coordinate_p[0]} {coordinate_p[1]} {coordinate_p[2]} {coordinate_p[3]}\")\n",
        "          t.write(f\"{label} {coordinate_p[0]} {coordinate_p[1]} {coordinate_p[2]} {coordinate_p[3]}\\n\")  \n",
        "        else:\n",
        "          bbox_coordinate.append(bbox_n(obj['box']))\n",
        "          coordinate_b = bbox_n(obj['box']) #함수들 통해 표준화(normalization)된 바운딩박스의 좌표값들\n",
        "          t.write(f\"{label} {coordinate_b[0]} {coordinate_b[1]} {coordinate_b[2]} {coordinate_b[3]}\\n\") \n",
        "      else:\n",
        "        label = obj['class']\n",
        "        if('polygon' in obj.keys()):\n",
        "          bbox_coordinate.append(polygon_bbox_n(obj['polygon']))\n",
        "          coordinate_p = polygon_bbox_n(obj['polygon']) #함수들 통해 표준화(normalization)된 polygon들의 좌표값들\n",
        "          #print(f\"{label} {coordinate_p[0]} {coordinate_p[1]} {coordinate_p[2]} {coordinate_p[3]}\")\n",
        "          t.write(f\"{label} {coordinate_p[0]} {coordinate_p[1]} {coordinate_p[2]} {coordinate_p[3]}\\n\")  \n",
        "        else:\n",
        "          bbox_coordinate.append(bbox_n(obj['box']))\n",
        "          coordinate_b = bbox_n(obj['box']) #함수들 통해 표준화(normalization)된 바운딩박스의 좌표값들\n",
        "          t.write(f\"{label} {coordinate_b[0]} {coordinate_b[1]} {coordinate_b[2]} {coordinate_b[3]}\\n\") \n",
        "    t.close()"
      ]
    },
    {
      "cell_type": "markdown",
      "metadata": {
        "id": "-Zv5Ko9FGiVk"
      },
      "source": [
        "**valid_image_N(무관씬)의 리사이즈된 이미지와 json파일에서 필요한 정보를 뽑아 txt형식의 라벨 압축**"
      ]
    },
    {
      "cell_type": "code",
      "execution_count": null,
      "metadata": {
        "id": "gKGzduSTGiVl"
      },
      "outputs": [],
      "source": [
        "# !zip -r /content/resized_valid_image_N(608x608).zip /content/resized_valid_image_N"
      ]
    },
    {
      "cell_type": "markdown",
      "metadata": {
        "id": "l1dOZFnAjCHa"
      },
      "source": [
        "# **Test Set 세팅**"
      ]
    },
    {
      "cell_type": "markdown",
      "metadata": {
        "id": "M630HrrVICJs"
      },
      "source": [
        "**화재씬 라벨 리사이즈 & 라벨 추가 등 전처리**"
      ]
    },
    {
      "cell_type": "code",
      "execution_count": null,
      "metadata": {
        "id": "OoeOucUsICJt"
      },
      "outputs": [],
      "source": [
        "# import dependencies\n",
        "from IPython.display import display, Javascript, Image\n",
        "from google.colab.output import eval_js\n",
        "from google.colab.patches import cv2_imshow\n",
        "from base64 import b64decode, b64encode\n",
        "import cv2\n",
        "import numpy as np\n",
        "import PIL\n",
        "import io\n",
        "import html\n",
        "import time\n",
        "import os\n",
        "import matplotlib.pyplot as plt\n",
        "%matplotlib inline"
      ]
    },
    {
      "cell_type": "code",
      "execution_count": null,
      "metadata": {
        "id": "DRfS9aQQICJt"
      },
      "outputs": [],
      "source": [
        "# 경로를 문자열로 놓고 변수화하면 해당 경로의 파일들을 참조하여 읽어들이기 편함\n",
        "folder_path7 = '/content/test_image_F' \n",
        "label_names7 = os.listdir(folder_path7)\n",
        "label_names7"
      ]
    },
    {
      "cell_type": "code",
      "execution_count": null,
      "metadata": {
        "id": "z7m3JOEVICJt"
      },
      "outputs": [],
      "source": [
        "!mkdir resized_test_image_F"
      ]
    },
    {
      "cell_type": "code",
      "execution_count": null,
      "metadata": {
        "id": "-zh8cwJ3ICJu"
      },
      "outputs": [],
      "source": [
        "dataset7 = []\n",
        "for label in os.listdir(folder_path7):\n",
        "    sub_path7 = folder_path7+'/'+label # 세부 경로 지정\n",
        "    dataset7.append(sub_path7)\n",
        "dataset7"
      ]
    },
    {
      "cell_type": "code",
      "execution_count": null,
      "metadata": {
        "id": "H4XQNcCBICJu"
      },
      "outputs": [],
      "source": [
        "import cv2\n",
        "import numpy as np\n",
        "folder_path7 #'/content/test_image_F'\n",
        "label_names7 \n",
        "#filename =[]\n",
        "for label_name in label_names7:\n",
        "  filename7 = folder_path7 +'/'+label_name\n",
        "\n",
        "  img7 = cv2.imread(filename7)\n",
        "\n",
        "  # 이미지의 x, y가 1920이 넘을 경우 작게해주기\n",
        "  percent = 1\n",
        "  if(img7.shape[1] > img7.shape[0]) :       # 이미지의 가로가 세보다 크면 가로를 300으로 맞추고 세로를 비율에 맞춰서\n",
        "      percent = 608/img7.shape[1]\n",
        "  else :\n",
        "      percent = 608/img7.shape[0]\n",
        "  img7 = cv2.resize(img7, dsize=(0, 0), fx=percent, fy=percent, interpolation=cv2.INTER_LINEAR)\n",
        "\n",
        "  # 이미지 범위 지정\n",
        "  y,x,h,w = (0,0,img7.shape[0], img7.shape[1])\n",
        "\n",
        "  # 그림 주변에 검은색으로 칠하기\n",
        "  w_x = (608-(w-x))/2  # w_x = (1920 - 그림)을 뺀 나머지 영역 크기 [ 그림나머지/2 [그림] 그림나머지/2 ]\n",
        "  h_y = (608-(h-y))/2\n",
        "\n",
        "  if(w_x < 0):         # 크기가 -면 0으로 지정.\n",
        "      w_x = 0\n",
        "  elif(h_y < 0):\n",
        "      h_y = 0\n",
        "\n",
        "  M = np.float32([[1,0,w_x], [0,1,h_y]])  #(2*3 이차원 행렬)\n",
        "  img_re7 = cv2.warpAffine(img7, M, (608, 608))\n",
        "  cv2.imwrite(f'/content/resized_valid_image_F/{label_name}',img_re7)\n",
        "#cv2.imshow(\"img_re\", img_re)\n",
        "#plt.imshow(cv2.imread('/content/image_03/S3-N0801MN04479.jpg'))"
      ]
    },
    {
      "cell_type": "code",
      "execution_count": null,
      "metadata": {
        "colab": {
          "base_uri": "https://localhost:8080/",
          "height": 49,
          "referenced_widgets": [
            "fc58253c619d4ec18a904c54cb4d59ef",
            "c99bcaffd33c4c738aa7790dc77a8690",
            "39b89022b2ce4737a2bf5e8a2db9b009",
            "5013ef0947714190af3af76d49608a5a",
            "aee5946f04404c599789e3e8a33f83ee",
            "8a40e6ba9c3b45e991394d37e2560a24",
            "27eb714c9a6c47d88028882a7916a869",
            "62d29e91169949cf8b9e3cd91d32e607",
            "0a56757f4668473d81d817c1217a11d8",
            "3b6ef006b9b0412585ba25009da253ec",
            "b4dd45208ec340219ffbc8b160eab5cb"
          ]
        },
        "id": "NZGOvhLrICJu",
        "outputId": "28596cc3-eb5e-432f-d689-9ea8c145214d"
      },
      "outputs": [],
      "source": [
        "for i in tqdm(json_file_07):\n",
        "  t = open(f'/content/resized_test_image_F/{i[:-5]}.txt', 'w') # i의 이름이 ~.json 이므로 슬라이싱으로 자르고 txt 파일로 생성 // json파일을 불러옴과 동시에 json파일의 이름과 같은 txt파일 생성\n",
        "  with open(f'/content/test_label/test_label_F/{i}', encoding = 'utf-8-sig') as data_file:\n",
        "    json_data = json.load(data_file) #json_data = local \n",
        "    bbox = json_data['annotations']#bbox = box\n",
        "    bbox_coordinate=[] #bbox_coordinate =  n\n",
        "    for obj in bbox: #obj = i\n",
        "      if obj['class'] == \"11\":\n",
        "        label = \"0\"\n",
        "        if('polygon' in obj.keys()):\n",
        "          bbox_coordinate.append(polygon_bbox_n(obj['polygon']))\n",
        "          coordinate_p = polygon_bbox_n(obj['polygon']) #함수들 통해 표준화(normalization)된 polygon들의 좌표값들\n",
        "          #print(f\"{label} {coordinate_p[0]} {coordinate_p[1]} {coordinate_p[2]} {coordinate_p[3]}\")\n",
        "          t.write(f\"{label} {coordinate_p[0]} {coordinate_p[1]} {coordinate_p[2]} {coordinate_p[3]}\\n\")  \n",
        "        else:\n",
        "          bbox_coordinate.append(bbox_n(obj['box']))\n",
        "          coordinate_b = bbox_n(obj['box']) #함수들 통해 표준화(normalization)된 바운딩박스의 좌표값들\n",
        "          t.write(f\"{label} {coordinate_b[0]} {coordinate_b[1]} {coordinate_b[2]} {coordinate_b[3]}\\n\") \n",
        "      else:\n",
        "        label = obj['class']\n",
        "        if('polygon' in obj.keys()):\n",
        "          bbox_coordinate.append(polygon_bbox_n(obj['polygon']))\n",
        "          coordinate_p = polygon_bbox_n(obj['polygon']) #함수들 통해 표준화(normalization)된 polygon들의 좌표값들\n",
        "          #print(f\"{label} {coordinate_p[0]} {coordinate_p[1]} {coordinate_p[2]} {coordinate_p[3]}\")\n",
        "          t.write(f\"{label} {coordinate_p[0]} {coordinate_p[1]} {coordinate_p[2]} {coordinate_p[3]}\\n\")  \n",
        "        else:\n",
        "          bbox_coordinate.append(bbox_n(obj['box']))\n",
        "          coordinate_b = bbox_n(obj['box']) #함수들 통해 표준화(normalization)된 바운딩박스의 좌표값들\n",
        "          t.write(f\"{label} {coordinate_b[0]} {coordinate_b[1]} {coordinate_b[2]} {coordinate_b[3]}\\n\") \n",
        "    t.close()"
      ]
    },
    {
      "cell_type": "markdown",
      "metadata": {
        "id": "ixIrmOwdICJu"
      },
      "source": [
        "**test_image_F(화재씬)의 리사이즈된 이미지와 json파일에서 필요한 정보를 뽑아 txt형식의 라벨 압축**"
      ]
    },
    {
      "cell_type": "code",
      "execution_count": null,
      "metadata": {
        "id": "om-CeAidICJu"
      },
      "outputs": [],
      "source": [
        "# !zip -r /content/resized_test_image_F(608x608).zip /content/resized_test_image_F"
      ]
    },
    {
      "cell_type": "markdown",
      "metadata": {
        "id": "V94WBBCKICJu"
      },
      "source": [
        "**유사씬 라벨 리사이즈 & 라벨 추가 등 전처리**"
      ]
    },
    {
      "cell_type": "code",
      "execution_count": null,
      "metadata": {
        "id": "Ywx3swCUICJu"
      },
      "outputs": [],
      "source": [
        "# import dependencies\n",
        "from IPython.display import display, Javascript, Image\n",
        "from google.colab.output import eval_js\n",
        "from google.colab.patches import cv2_imshow\n",
        "from base64 import b64decode, b64encode\n",
        "import cv2\n",
        "import numpy as np\n",
        "import PIL\n",
        "import io\n",
        "import html\n",
        "import time\n",
        "import os\n",
        "import matplotlib.pyplot as plt\n",
        "%matplotlib inline"
      ]
    },
    {
      "cell_type": "code",
      "execution_count": null,
      "metadata": {
        "id": "4N-pVCmpICJu"
      },
      "outputs": [],
      "source": [
        "# 경로를 문자열로 놓고 변수화하면 해당 경로의 파일들을 참조하여 읽어들이기 편함\n",
        "folder_path8 = '/content/test_image_S' \n",
        "label_names8 = os.listdir(folder_path8)\n",
        "label_names8"
      ]
    },
    {
      "cell_type": "code",
      "execution_count": null,
      "metadata": {
        "id": "XXt1T5DjICJv"
      },
      "outputs": [],
      "source": [
        "!mkdir resized_test_image_S"
      ]
    },
    {
      "cell_type": "code",
      "execution_count": null,
      "metadata": {
        "id": "IizblH0KICJv"
      },
      "outputs": [],
      "source": [
        "dataset8 = []\n",
        "for label in os.listdir(folder_path8):\n",
        "    sub_path8 = folder_path8+'/'+label # 세부 경로 지정\n",
        "    dataset8.append(sub_path8)\n",
        "dataset8"
      ]
    },
    {
      "cell_type": "code",
      "execution_count": null,
      "metadata": {
        "id": "X0zhocmJICJv"
      },
      "outputs": [],
      "source": [
        "import cv2\n",
        "import numpy as np\n",
        "folder_path8 #'/content/test_image_S'\n",
        "label_names8 \n",
        "#filename =[]\n",
        "for label_name in label_names8:\n",
        "  filename8 = folder_path8 +'/'+label_name\n",
        "\n",
        "  img8 = cv2.imread(filename8)\n",
        "\n",
        "  # 이미지의 x, y가 608이 넘을 경우 작게해주기\n",
        "  percent = 1\n",
        "  if(img8.shape[1] > img8.shape[0]) :       # 이미지의 가로가 세보다 크면 가로를 608으로 맞추고 세로를 비율에 맞춰서\n",
        "      percent = 608/img8.shape[1]\n",
        "  else :\n",
        "      percent = 608/img8.shape[0]\n",
        "  img8 = cv2.resize(img8, dsize=(0, 0), fx=percent, fy=percent, interpolation=cv2.INTER_LINEAR)\n",
        "\n",
        "  # 이미지 범위 지정\n",
        "  y,x,h,w = (0,0,img8.shape[0], img8.shape[1])\n",
        "\n",
        "  # 그림 주변에 검은색으로 칠하기\n",
        "  w_x = (608-(w-x))/2  # w_x = (1920 - 그림)을 뺀 나머지 영역 크기 [ 그림나머지/2 [그림] 그림나머지/2 ]\n",
        "  h_y = (608-(h-y))/2\n",
        "\n",
        "  if(w_x < 0):         # 크기가 -면 0으로 지정.\n",
        "      w_x = 0\n",
        "  elif(h_y < 0):\n",
        "      h_y = 0\n",
        "\n",
        "  M = np.float32([[1,0,w_x], [0,1,h_y]])  #(2*3 이차원 행렬)\n",
        "  img_re8 = cv2.warpAffine(img8, M, (608, 608))\n",
        "  cv2.imwrite(f'/content/resized_test_image_S/{label_name}',img_re8)\n",
        "#cv2.imshow(\"img_re\", img_re)\n",
        "#plt.imshow(cv2.imread('/content/image_03/S3-N0801MN04479.jpg'))"
      ]
    },
    {
      "cell_type": "code",
      "execution_count": null,
      "metadata": {
        "colab": {
          "base_uri": "https://localhost:8080/",
          "height": 49,
          "referenced_widgets": [
            "fc58253c619d4ec18a904c54cb4d59ef",
            "c99bcaffd33c4c738aa7790dc77a8690",
            "39b89022b2ce4737a2bf5e8a2db9b009",
            "5013ef0947714190af3af76d49608a5a",
            "aee5946f04404c599789e3e8a33f83ee",
            "8a40e6ba9c3b45e991394d37e2560a24",
            "27eb714c9a6c47d88028882a7916a869",
            "62d29e91169949cf8b9e3cd91d32e607",
            "0a56757f4668473d81d817c1217a11d8",
            "3b6ef006b9b0412585ba25009da253ec",
            "b4dd45208ec340219ffbc8b160eab5cb"
          ]
        },
        "id": "WjnEt_vCICJv",
        "outputId": "28596cc3-eb5e-432f-d689-9ea8c145214d"
      },
      "outputs": [],
      "source": [
        "for i in tqdm(json_file_08):\n",
        "  t = open(f'/content/resized_test_image_S/{i[:-5]}.txt', 'w') # i의 이름이 ~.json 이므로 슬라이싱으로 자르고 txt 파일로 생성 // json파일을 불러옴과 동시에 json파일의 이름과 같은 txt파일 생성\n",
        "  with open(f'/content/test_label/test_label_S/{i}', encoding = 'utf-8-sig') as data_file:\n",
        "    json_data = json.load(data_file) #json_data = local \n",
        "    bbox = json_data['annotations']#bbox = box\n",
        "    bbox_coordinate=[] #bbox_coordinate =  n\n",
        "    for obj in bbox: #obj = i\n",
        "      if obj['class'] == \"11\":\n",
        "        label = \"0\"\n",
        "        if('polygon' in obj.keys()):\n",
        "          bbox_coordinate.append(polygon_bbox_n(obj['polygon']))\n",
        "          coordinate_p = polygon_bbox_n(obj['polygon']) #함수들 통해 표준화(normalization)된 polygon들의 좌표값들\n",
        "          #print(f\"{label} {coordinate_p[0]} {coordinate_p[1]} {coordinate_p[2]} {coordinate_p[3]}\")\n",
        "          t.write(f\"{label} {coordinate_p[0]} {coordinate_p[1]} {coordinate_p[2]} {coordinate_p[3]}\\n\")  \n",
        "        else:\n",
        "          bbox_coordinate.append(bbox_n(obj['box']))\n",
        "          coordinate_b = bbox_n(obj['box']) #함수들 통해 표준화(normalization)된 바운딩박스의 좌표값들\n",
        "          t.write(f\"{label} {coordinate_b[0]} {coordinate_b[1]} {coordinate_b[2]} {coordinate_b[3]}\\n\") \n",
        "      else:\n",
        "        label = obj['class']\n",
        "        if('polygon' in obj.keys()):\n",
        "          bbox_coordinate.append(polygon_bbox_n(obj['polygon']))\n",
        "          coordinate_p = polygon_bbox_n(obj['polygon']) #함수들 통해 표준화(normalization)된 polygon들의 좌표값들\n",
        "          #print(f\"{label} {coordinate_p[0]} {coordinate_p[1]} {coordinate_p[2]} {coordinate_p[3]}\")\n",
        "          t.write(f\"{label} {coordinate_p[0]} {coordinate_p[1]} {coordinate_p[2]} {coordinate_p[3]}\\n\")  \n",
        "        else:\n",
        "          bbox_coordinate.append(bbox_n(obj['box']))\n",
        "          coordinate_b = bbox_n(obj['box']) #함수들 통해 표준화(normalization)된 바운딩박스의 좌표값들\n",
        "          t.write(f\"{label} {coordinate_b[0]} {coordinate_b[1]} {coordinate_b[2]} {coordinate_b[3]}\\n\") \n",
        "    t.close()"
      ]
    },
    {
      "cell_type": "markdown",
      "metadata": {
        "id": "I-nregRVICJv"
      },
      "source": [
        "**test_image_S(유사씬)의 리사이즈된 이미지와 json파일에서 필요한 정보를 뽑아 txt형식의 라벨 압축**"
      ]
    },
    {
      "cell_type": "code",
      "execution_count": null,
      "metadata": {
        "id": "UVshSwd7ICJv"
      },
      "outputs": [],
      "source": [
        "# !zip -r /content/resized_test_image_S(608x608).zip /content/resized_test_image_S"
      ]
    },
    {
      "cell_type": "markdown",
      "metadata": {
        "id": "eZCcDCsnICJv"
      },
      "source": [
        "**무관씬 라벨 리사이즈 & 라벨 추가 등 전처리**"
      ]
    },
    {
      "cell_type": "code",
      "execution_count": null,
      "metadata": {
        "id": "FN0t5EYhICJv"
      },
      "outputs": [],
      "source": [
        "# import dependencies\n",
        "from IPython.display import display, Javascript, Image\n",
        "from google.colab.output import eval_js\n",
        "from google.colab.patches import cv2_imshow\n",
        "from base64 import b64decode, b64encode\n",
        "import cv2\n",
        "import numpy as np\n",
        "import PIL\n",
        "import io\n",
        "import html\n",
        "import time\n",
        "import os\n",
        "import matplotlib.pyplot as plt\n",
        "%matplotlib inline"
      ]
    },
    {
      "cell_type": "code",
      "execution_count": null,
      "metadata": {
        "id": "QQR4ZEi5ICJw"
      },
      "outputs": [],
      "source": [
        "# 경로를 문자열로 놓고 변수화하면 해당 경로의 파일들을 참조하여 읽어들이기 편함\n",
        "folder_path9 = '/content/test_image_N' \n",
        "label_names9 = os.listdir(folder_path9)\n",
        "label_names9"
      ]
    },
    {
      "cell_type": "code",
      "execution_count": null,
      "metadata": {
        "id": "pabTnV42ICJw"
      },
      "outputs": [],
      "source": [
        "!mkdir resized_test_image_N"
      ]
    },
    {
      "cell_type": "code",
      "execution_count": null,
      "metadata": {
        "id": "NSidhmGjICJw"
      },
      "outputs": [],
      "source": [
        "dataset9 = []\n",
        "for label in os.listdir(folder_path9):\n",
        "    sub_path9 = folder_path9 +'/'+label # 세부 경로 지정\n",
        "    dataset9.append(sub_path9)\n",
        "dataset9"
      ]
    },
    {
      "cell_type": "code",
      "execution_count": null,
      "metadata": {
        "id": "U18lpyYFICJw"
      },
      "outputs": [],
      "source": [
        "import cv2\n",
        "import numpy as np\n",
        "folder_path9 #'/content/test_image_N'\n",
        "label_names9 \n",
        "#filename =[]\n",
        "for label_name in label_names9:\n",
        "  filename9 = folder_path9 +'/'+label_name\n",
        "\n",
        "  img9 = cv2.imread(filename9)\n",
        "\n",
        "  # 이미지의 x, y가 608이 넘을 경우 작게해주기\n",
        "  percent = 1\n",
        "  if(img9.shape[1] > img9.shape[0]) :       # 이미지의 가로가 세보다 크면 가로를 608으로 맞추고 세로를 비율에 맞춰서\n",
        "      percent = 608/img9.shape[1]\n",
        "  else :\n",
        "      percent = 608/img9.shape[0]\n",
        "  img9 = cv2.resize(img9, dsize=(0, 0), fx=percent, fy=percent, interpolation=cv2.INTER_LINEAR)\n",
        "\n",
        "  # 이미지 범위 지정\n",
        "  y,x,h,w = (0,0,img9.shape[0], img9.shape[1])\n",
        "\n",
        "  # 그림 주변에 검은색으로 칠하기\n",
        "  w_x = (608-(w-x))/2  # w_x = (1920 - 그림)을 뺀 나머지 영역 크기 [ 그림나머지/2 [그림] 그림나머지/2 ]\n",
        "  h_y = (608-(h-y))/2\n",
        "\n",
        "  if(w_x < 0):         # 크기가 -면 0으로 지정.\n",
        "      w_x = 0\n",
        "  elif(h_y < 0):\n",
        "      h_y = 0\n",
        "\n",
        "  M = np.float32([[1,0,w_x], [0,1,h_y]])  #(2*3 이차원 행렬)\n",
        "  img_re9 = cv2.warpAffine(img9, M, (608, 608))\n",
        "  cv2.imwrite(f'/content/resized_valid_image_N/{label_name}',img_re9)\n",
        "#cv2.imshow(\"img_re\", img_re)\n",
        "#plt.imshow(cv2.imread('/content/image_03/S3-N0801MN04479.jpg'))"
      ]
    },
    {
      "cell_type": "code",
      "execution_count": null,
      "metadata": {
        "colab": {
          "base_uri": "https://localhost:8080/",
          "height": 49,
          "referenced_widgets": [
            "fc58253c619d4ec18a904c54cb4d59ef",
            "c99bcaffd33c4c738aa7790dc77a8690",
            "39b89022b2ce4737a2bf5e8a2db9b009",
            "5013ef0947714190af3af76d49608a5a",
            "aee5946f04404c599789e3e8a33f83ee",
            "8a40e6ba9c3b45e991394d37e2560a24",
            "27eb714c9a6c47d88028882a7916a869",
            "62d29e91169949cf8b9e3cd91d32e607",
            "0a56757f4668473d81d817c1217a11d8",
            "3b6ef006b9b0412585ba25009da253ec",
            "b4dd45208ec340219ffbc8b160eab5cb"
          ]
        },
        "id": "JVS-C6X3ICJw",
        "outputId": "28596cc3-eb5e-432f-d689-9ea8c145214d"
      },
      "outputs": [],
      "source": [
        "for i in tqdm(json_file_09):\n",
        "  t = open(f'/content/resized_test_image_N/{i[:-5]}.txt', 'w') # i의 이름이 ~.json 이므로 슬라이싱으로 자르고 txt 파일로 생성 // json파일을 불러옴과 동시에 json파일의 이름과 같은 txt파일 생성\n",
        "  with open(f'/content/test_label/test_label_N/{i}', encoding = 'utf-8-sig') as data_file:\n",
        "    json_data = json.load(data_file) #json_data = local \n",
        "    bbox = json_data['annotations']#bbox = box\n",
        "    bbox_coordinate=[] #bbox_coordinate =  n\n",
        "    for obj in bbox: #obj = i\n",
        "      if obj['class'] == \"11\":\n",
        "        label = \"0\"\n",
        "        if('polygon' in obj.keys()):\n",
        "          bbox_coordinate.append(polygon_bbox_n(obj['polygon']))\n",
        "          coordinate_p = polygon_bbox_n(obj['polygon']) #함수들 통해 표준화(normalization)된 polygon들의 좌표값들\n",
        "          #print(f\"{label} {coordinate_p[0]} {coordinate_p[1]} {coordinate_p[2]} {coordinate_p[3]}\")\n",
        "          t.write(f\"{label} {coordinate_p[0]} {coordinate_p[1]} {coordinate_p[2]} {coordinate_p[3]}\\n\")  \n",
        "        else:\n",
        "          bbox_coordinate.append(bbox_n(obj['box']))\n",
        "          coordinate_b = bbox_n(obj['box']) #함수들 통해 표준화(normalization)된 바운딩박스의 좌표값들\n",
        "          t.write(f\"{label} {coordinate_b[0]} {coordinate_b[1]} {coordinate_b[2]} {coordinate_b[3]}\\n\") \n",
        "      else:\n",
        "        label = obj['class']\n",
        "        if('polygon' in obj.keys()):\n",
        "          bbox_coordinate.append(polygon_bbox_n(obj['polygon']))\n",
        "          coordinate_p = polygon_bbox_n(obj['polygon']) #함수들 통해 표준화(normalization)된 polygon들의 좌표값들\n",
        "          #print(f\"{label} {coordinate_p[0]} {coordinate_p[1]} {coordinate_p[2]} {coordinate_p[3]}\")\n",
        "          t.write(f\"{label} {coordinate_p[0]} {coordinate_p[1]} {coordinate_p[2]} {coordinate_p[3]}\\n\")  \n",
        "        else:\n",
        "          bbox_coordinate.append(bbox_n(obj['box']))\n",
        "          coordinate_b = bbox_n(obj['box']) #함수들 통해 표준화(normalization)된 바운딩박스의 좌표값들\n",
        "          t.write(f\"{label} {coordinate_b[0]} {coordinate_b[1]} {coordinate_b[2]} {coordinate_b[3]}\\n\") \n",
        "    t.close()"
      ]
    },
    {
      "cell_type": "markdown",
      "metadata": {
        "id": "PwGsfbhVICJw"
      },
      "source": [
        "**test_image_N(무관씬)의 리사이즈된 이미지와 json파일에서 필요한 정보를 뽑아 txt형식의 라벨 압축**"
      ]
    },
    {
      "cell_type": "code",
      "execution_count": null,
      "metadata": {
        "id": "BW98BqJbICJw"
      },
      "outputs": [],
      "source": [
        "# !zip -r /content/resized_test_image_N(608x608).zip /content/resized_test_image_N"
      ]
    }
  ],
  "metadata": {
    "colab": {
      "provenance": []
    },
    "kernelspec": {
      "display_name": "Python 3",
      "name": "python3"
    },
    "language_info": {
      "name": "python"
    }
  },
  "nbformat": 4,
  "nbformat_minor": 0
}
